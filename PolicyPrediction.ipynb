{
 "cells": [
  {
   "cell_type": "code",
   "execution_count": 1,
   "metadata": {},
   "outputs": [
    {
     "name": "stdout",
     "output_type": "stream",
     "text": [
      "Index(['India', 'United States', 'New Delhi, India', 'Mumbai, India',\n",
      "       'Washington, DC', 'London, England', 'United Kingdom', 'London',\n",
      "       'New York, NY', 'Australia',\n",
      "       ...\n",
      "       'Somewhere', 'Etats-Unis', 'Makati, Philippines', 'SoCal',\n",
      "       'Greenville, SC', 'Seoul, Korea ', 'Oklahoma', 'City of London',\n",
      "       'Abuja', 'Bethesda, MD'],\n",
      "      dtype='object', length=500)\n"
     ]
    },
    {
     "name": "stderr",
     "output_type": "stream",
     "text": [
      "[nltk_data] Downloading package vader_lexicon to\n",
      "[nltk_data]     C:\\Users\\Caleb\\AppData\\Roaming\\nltk_data...\n",
      "[nltk_data]   Package vader_lexicon is already up-to-date!\n"
     ]
    },
    {
     "name": "stdout",
     "output_type": "stream",
     "text": [
      "0         {'neg': 0.0, 'neu': 0.856, 'pos': 0.144, 'comp...\n",
      "1         {'neg': 0.065, 'neu': 0.829, 'pos': 0.106, 'co...\n",
      "2         {'neg': 0.116, 'neu': 0.884, 'pos': 0.0, 'comp...\n",
      "3         {'neg': 0.0, 'neu': 0.744, 'pos': 0.256, 'comp...\n",
      "4         {'neg': 0.0, 'neu': 0.827, 'pos': 0.173, 'comp...\n",
      "                                ...                        \n",
      "179103    {'neg': 0.0, 'neu': 0.805, 'pos': 0.195, 'comp...\n",
      "179104    {'neg': 0.322, 'neu': 0.435, 'pos': 0.243, 'co...\n",
      "179105    {'neg': 0.154, 'neu': 0.726, 'pos': 0.12, 'com...\n",
      "179106    {'neg': 0.0, 'neu': 0.769, 'pos': 0.231, 'comp...\n",
      "179107    {'neg': 0.423, 'neu': 0.577, 'pos': 0.0, 'comp...\n",
      "Name: Score, Length: 179108, dtype: object\n"
     ]
    }
   ],
   "source": [
    "import pandas as pd\n",
    "import re\n",
    "import nltk\n",
    "from nltk.sentiment.vader import SentimentIntensityAnalyzer\n",
    "\n",
    "df = pd.read_csv(\"covid19_tweets.csv\")\n",
    "\n",
    "# exTweet = \"strive to promote Truth with Integrity. https://t.co/pOqdhk6Mhg\"\n",
    "def clean_tweet(text):\n",
    "    ''' Remove links and symbols, make text lowercase'''\n",
    "    text = text.lower()\n",
    "    text = re.sub('http\\S+', '', text)\n",
    "    text = re.sub('[^0-9a-zA-Z ]+', '', text)\n",
    "    return text\n",
    "\n",
    "df['text_clean'] = df['text'].apply(str).apply(lambda x: clean_tweet(x))\n",
    "\n",
    "# Print locations\n",
    "print(df[\"user_location\"].value_counts().index[0:500])\n",
    "\n",
    "# Get Sentiment from Vader\n",
    "nltk.download('vader_lexicon')\n",
    "sid = SentimentIntensityAnalyzer()\n",
    "df[\"Score\"] = df[\"text_clean\"].apply(lambda x: sid.polarity_scores(x)) \n",
    "print(df[\"Score\"])"
   ]
  },
  {
   "cell_type": "code",
   "execution_count": 4,
   "metadata": {
    "scrolled": true
   },
   "outputs": [
    {
     "data": {
      "text/plain": [
       "{'neg': 0.108, 'neu': 0.613, 'pos': 0.278, 'compound': 0.5574}"
      ]
     },
     "execution_count": 4,
     "metadata": {},
     "output_type": "execute_result"
    }
   ],
   "source": [
    "df[\"Score\"][222]"
   ]
  },
  {
   "cell_type": "code",
   "execution_count": 5,
   "metadata": {},
   "outputs": [
    {
     "data": {
      "text/plain": [
       "'my uncle just tested positive for covid19  we already lost 3 family members please wear a masksocial distance '"
      ]
     },
     "execution_count": 5,
     "metadata": {},
     "output_type": "execute_result"
    }
   ],
   "source": [
    "df[\"text_clean\"][222]"
   ]
  },
  {
   "cell_type": "code",
   "execution_count": 9,
   "metadata": {
    "scrolled": true
   },
   "outputs": [
    {
     "data": {
      "text/plain": [
       "{'neg': 1.0, 'neu': 0.0, 'pos': 0.0, 'compound': -0.6597}"
      ]
     },
     "execution_count": 9,
     "metadata": {},
     "output_type": "execute_result"
    }
   ],
   "source": []
  },
  {
   "cell_type": "code",
   "execution_count": null,
   "metadata": {},
   "outputs": [],
   "source": []
  }
 ],
 "metadata": {
  "kernelspec": {
   "display_name": "Python 3",
   "language": "python",
   "name": "python3"
  },
  "language_info": {
   "codemirror_mode": {
    "name": "ipython",
    "version": 3
   },
   "file_extension": ".py",
   "mimetype": "text/x-python",
   "name": "python",
   "nbconvert_exporter": "python",
   "pygments_lexer": "ipython3",
   "version": "3.9.0"
  }
 },
 "nbformat": 4,
 "nbformat_minor": 4
}
